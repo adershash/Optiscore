{
 "cells": [
  {
   "cell_type": "code",
   "execution_count": 215,
   "metadata": {},
   "outputs": [
    {
     "ename": "ServiceUnavailable",
     "evalue": "503 DNS resolution failed for vision.googleapis.com:443: UNAVAILABLE: getaddrinfo: WSA Error (No such host is known.\r\n -- 11001)",
     "output_type": "error",
     "traceback": [
      "\u001b[1;31m---------------------------------------------------------------------------\u001b[0m",
      "\u001b[1;31m_InactiveRpcError\u001b[0m                         Traceback (most recent call last)",
      "File \u001b[1;32mc:\\Users\\adersh\\OneDrive\\Desktop\\optiscore\\backend\\env\\lib\\site-packages\\google\\api_core\\grpc_helpers.py:76\u001b[0m, in \u001b[0;36m_wrap_unary_errors.<locals>.error_remapped_callable\u001b[1;34m(*args, **kwargs)\u001b[0m\n\u001b[0;32m     75\u001b[0m \u001b[38;5;28;01mtry\u001b[39;00m:\n\u001b[1;32m---> 76\u001b[0m     \u001b[38;5;28;01mreturn\u001b[39;00m callable_(\u001b[38;5;241m*\u001b[39margs, \u001b[38;5;241m*\u001b[39m\u001b[38;5;241m*\u001b[39mkwargs)\n\u001b[0;32m     77\u001b[0m \u001b[38;5;28;01mexcept\u001b[39;00m grpc\u001b[38;5;241m.\u001b[39mRpcError \u001b[38;5;28;01mas\u001b[39;00m exc:\n",
      "File \u001b[1;32mc:\\Users\\adersh\\OneDrive\\Desktop\\optiscore\\backend\\env\\lib\\site-packages\\grpc\\_interceptor.py:277\u001b[0m, in \u001b[0;36m_UnaryUnaryMultiCallable.__call__\u001b[1;34m(self, request, timeout, metadata, credentials, wait_for_ready, compression)\u001b[0m\n\u001b[0;32m    268\u001b[0m \u001b[38;5;28;01mdef\u001b[39;00m\u001b[38;5;250m \u001b[39m\u001b[38;5;21m__call__\u001b[39m(\n\u001b[0;32m    269\u001b[0m     \u001b[38;5;28mself\u001b[39m,\n\u001b[0;32m    270\u001b[0m     request: Any,\n\u001b[1;32m   (...)\u001b[0m\n\u001b[0;32m    275\u001b[0m     compression: Optional[grpc\u001b[38;5;241m.\u001b[39mCompression] \u001b[38;5;241m=\u001b[39m \u001b[38;5;28;01mNone\u001b[39;00m,\n\u001b[0;32m    276\u001b[0m ) \u001b[38;5;241m-\u001b[39m\u001b[38;5;241m>\u001b[39m Any:\n\u001b[1;32m--> 277\u001b[0m     response, ignored_call \u001b[38;5;241m=\u001b[39m \u001b[38;5;28;43mself\u001b[39;49m\u001b[38;5;241;43m.\u001b[39;49m\u001b[43m_with_call\u001b[49m\u001b[43m(\u001b[49m\n\u001b[0;32m    278\u001b[0m \u001b[43m        \u001b[49m\u001b[43mrequest\u001b[49m\u001b[43m,\u001b[49m\n\u001b[0;32m    279\u001b[0m \u001b[43m        \u001b[49m\u001b[43mtimeout\u001b[49m\u001b[38;5;241;43m=\u001b[39;49m\u001b[43mtimeout\u001b[49m\u001b[43m,\u001b[49m\n\u001b[0;32m    280\u001b[0m \u001b[43m        \u001b[49m\u001b[43mmetadata\u001b[49m\u001b[38;5;241;43m=\u001b[39;49m\u001b[43mmetadata\u001b[49m\u001b[43m,\u001b[49m\n\u001b[0;32m    281\u001b[0m \u001b[43m        \u001b[49m\u001b[43mcredentials\u001b[49m\u001b[38;5;241;43m=\u001b[39;49m\u001b[43mcredentials\u001b[49m\u001b[43m,\u001b[49m\n\u001b[0;32m    282\u001b[0m \u001b[43m        \u001b[49m\u001b[43mwait_for_ready\u001b[49m\u001b[38;5;241;43m=\u001b[39;49m\u001b[43mwait_for_ready\u001b[49m\u001b[43m,\u001b[49m\n\u001b[0;32m    283\u001b[0m \u001b[43m        \u001b[49m\u001b[43mcompression\u001b[49m\u001b[38;5;241;43m=\u001b[39;49m\u001b[43mcompression\u001b[49m\u001b[43m,\u001b[49m\n\u001b[0;32m    284\u001b[0m \u001b[43m    \u001b[49m\u001b[43m)\u001b[49m\n\u001b[0;32m    285\u001b[0m     \u001b[38;5;28;01mreturn\u001b[39;00m response\n",
      "File \u001b[1;32mc:\\Users\\adersh\\OneDrive\\Desktop\\optiscore\\backend\\env\\lib\\site-packages\\grpc\\_interceptor.py:332\u001b[0m, in \u001b[0;36m_UnaryUnaryMultiCallable._with_call\u001b[1;34m(self, request, timeout, metadata, credentials, wait_for_ready, compression)\u001b[0m\n\u001b[0;32m    329\u001b[0m call \u001b[38;5;241m=\u001b[39m \u001b[38;5;28mself\u001b[39m\u001b[38;5;241m.\u001b[39m_interceptor\u001b[38;5;241m.\u001b[39mintercept_unary_unary(\n\u001b[0;32m    330\u001b[0m     continuation, client_call_details, request\n\u001b[0;32m    331\u001b[0m )\n\u001b[1;32m--> 332\u001b[0m \u001b[38;5;28;01mreturn\u001b[39;00m \u001b[43mcall\u001b[49m\u001b[38;5;241;43m.\u001b[39;49m\u001b[43mresult\u001b[49m\u001b[43m(\u001b[49m\u001b[43m)\u001b[49m, call\n",
      "File \u001b[1;32mc:\\Users\\adersh\\OneDrive\\Desktop\\optiscore\\backend\\env\\lib\\site-packages\\grpc\\_channel.py:440\u001b[0m, in \u001b[0;36m_InactiveRpcError.result\u001b[1;34m(self, timeout)\u001b[0m\n\u001b[0;32m    439\u001b[0m \u001b[38;5;250m\u001b[39m\u001b[38;5;124;03m\"\"\"See grpc.Future.result.\"\"\"\u001b[39;00m\n\u001b[1;32m--> 440\u001b[0m \u001b[38;5;28;01mraise\u001b[39;00m \u001b[38;5;28mself\u001b[39m\n",
      "File \u001b[1;32mc:\\Users\\adersh\\OneDrive\\Desktop\\optiscore\\backend\\env\\lib\\site-packages\\grpc\\_interceptor.py:315\u001b[0m, in \u001b[0;36m_UnaryUnaryMultiCallable._with_call.<locals>.continuation\u001b[1;34m(new_details, request)\u001b[0m\n\u001b[0;32m    314\u001b[0m \u001b[38;5;28;01mtry\u001b[39;00m:\n\u001b[1;32m--> 315\u001b[0m     response, call \u001b[38;5;241m=\u001b[39m \u001b[38;5;28;43mself\u001b[39;49m\u001b[38;5;241;43m.\u001b[39;49m\u001b[43m_thunk\u001b[49m\u001b[43m(\u001b[49m\u001b[43mnew_method\u001b[49m\u001b[43m)\u001b[49m\u001b[38;5;241;43m.\u001b[39;49m\u001b[43mwith_call\u001b[49m\u001b[43m(\u001b[49m\n\u001b[0;32m    316\u001b[0m \u001b[43m        \u001b[49m\u001b[43mrequest\u001b[49m\u001b[43m,\u001b[49m\n\u001b[0;32m    317\u001b[0m \u001b[43m        \u001b[49m\u001b[43mtimeout\u001b[49m\u001b[38;5;241;43m=\u001b[39;49m\u001b[43mnew_timeout\u001b[49m\u001b[43m,\u001b[49m\n\u001b[0;32m    318\u001b[0m \u001b[43m        \u001b[49m\u001b[43mmetadata\u001b[49m\u001b[38;5;241;43m=\u001b[39;49m\u001b[43mnew_metadata\u001b[49m\u001b[43m,\u001b[49m\n\u001b[0;32m    319\u001b[0m \u001b[43m        \u001b[49m\u001b[43mcredentials\u001b[49m\u001b[38;5;241;43m=\u001b[39;49m\u001b[43mnew_credentials\u001b[49m\u001b[43m,\u001b[49m\n\u001b[0;32m    320\u001b[0m \u001b[43m        \u001b[49m\u001b[43mwait_for_ready\u001b[49m\u001b[38;5;241;43m=\u001b[39;49m\u001b[43mnew_wait_for_ready\u001b[49m\u001b[43m,\u001b[49m\n\u001b[0;32m    321\u001b[0m \u001b[43m        \u001b[49m\u001b[43mcompression\u001b[49m\u001b[38;5;241;43m=\u001b[39;49m\u001b[43mnew_compression\u001b[49m\u001b[43m,\u001b[49m\n\u001b[0;32m    322\u001b[0m \u001b[43m    \u001b[49m\u001b[43m)\u001b[49m\n\u001b[0;32m    323\u001b[0m     \u001b[38;5;28;01mreturn\u001b[39;00m _UnaryOutcome(response, call)\n",
      "File \u001b[1;32mc:\\Users\\adersh\\OneDrive\\Desktop\\optiscore\\backend\\env\\lib\\site-packages\\grpc\\_channel.py:1198\u001b[0m, in \u001b[0;36m_UnaryUnaryMultiCallable.with_call\u001b[1;34m(self, request, timeout, metadata, credentials, wait_for_ready, compression)\u001b[0m\n\u001b[0;32m   1192\u001b[0m (\n\u001b[0;32m   1193\u001b[0m     state,\n\u001b[0;32m   1194\u001b[0m     call,\n\u001b[0;32m   1195\u001b[0m ) \u001b[38;5;241m=\u001b[39m \u001b[38;5;28mself\u001b[39m\u001b[38;5;241m.\u001b[39m_blocking(\n\u001b[0;32m   1196\u001b[0m     request, timeout, metadata, credentials, wait_for_ready, compression\n\u001b[0;32m   1197\u001b[0m )\n\u001b[1;32m-> 1198\u001b[0m \u001b[38;5;28;01mreturn\u001b[39;00m \u001b[43m_end_unary_response_blocking\u001b[49m\u001b[43m(\u001b[49m\u001b[43mstate\u001b[49m\u001b[43m,\u001b[49m\u001b[43m \u001b[49m\u001b[43mcall\u001b[49m\u001b[43m,\u001b[49m\u001b[43m \u001b[49m\u001b[38;5;28;43;01mTrue\u001b[39;49;00m\u001b[43m,\u001b[49m\u001b[43m \u001b[49m\u001b[38;5;28;43;01mNone\u001b[39;49;00m\u001b[43m)\u001b[49m\n",
      "File \u001b[1;32mc:\\Users\\adersh\\OneDrive\\Desktop\\optiscore\\backend\\env\\lib\\site-packages\\grpc\\_channel.py:1006\u001b[0m, in \u001b[0;36m_end_unary_response_blocking\u001b[1;34m(state, call, with_call, deadline)\u001b[0m\n\u001b[0;32m   1005\u001b[0m \u001b[38;5;28;01melse\u001b[39;00m:\n\u001b[1;32m-> 1006\u001b[0m     \u001b[38;5;28;01mraise\u001b[39;00m _InactiveRpcError(state)\n",
      "\u001b[1;31m_InactiveRpcError\u001b[0m: <_InactiveRpcError of RPC that terminated with:\n\tstatus = StatusCode.UNAVAILABLE\n\tdetails = \"DNS resolution failed for vision.googleapis.com:443: UNAVAILABLE: getaddrinfo: WSA Error (No such host is known.\r\n -- 11001)\"\n\tdebug_error_string = \"UNKNOWN:Error received from peer  {created_time:\"2025-03-21T19:39:46.534769+00:00\", grpc_status:14, grpc_message:\"DNS resolution failed for vision.googleapis.com:443: UNAVAILABLE: getaddrinfo: WSA Error (No such host is known.\\r\\n -- 11001)\"}\"\n>",
      "\nThe above exception was the direct cause of the following exception:\n",
      "\u001b[1;31mServiceUnavailable\u001b[0m                        Traceback (most recent call last)",
      "Cell \u001b[1;32mIn[215], line 6\u001b[0m\n\u001b[0;32m      2\u001b[0m \u001b[38;5;28;01mfrom\u001b[39;00m\u001b[38;5;250m \u001b[39m\u001b[38;5;21;01mocr\u001b[39;00m\u001b[38;5;250m \u001b[39m\u001b[38;5;28;01mimport\u001b[39;00m detect_text\n\u001b[0;32m      5\u001b[0m image_path \u001b[38;5;241m=\u001b[39m \u001b[38;5;124m\"\u001b[39m\u001b[38;5;124manswer5.jpg\u001b[39m\u001b[38;5;124m\"\u001b[39m\n\u001b[1;32m----> 6\u001b[0m text \u001b[38;5;241m=\u001b[39m \u001b[43mdetect_text\u001b[49m\u001b[43m(\u001b[49m\u001b[43mimage_path\u001b[49m\u001b[43m)\u001b[49m\n\u001b[0;32m      7\u001b[0m result\u001b[38;5;241m=\u001b[39m\u001b[38;5;124m'\u001b[39m\u001b[38;5;124m,\u001b[39m\u001b[38;5;124m'\u001b[39m\u001b[38;5;241m.\u001b[39mjoin(text)\n\u001b[0;32m      8\u001b[0m result\u001b[38;5;241m.\u001b[39mreplace(\u001b[38;5;124m\"\u001b[39m\u001b[38;5;130;01m\\n\u001b[39;00m\u001b[38;5;124m\"\u001b[39m,\u001b[38;5;124m\"\u001b[39m\u001b[38;5;124m\"\u001b[39m)\n",
      "File \u001b[1;32mc:\\Users\\adersh\\OneDrive\\Desktop\\optiscore\\backend\\ocr.py:25\u001b[0m, in \u001b[0;36mdetect_text\u001b[1;34m(path)\u001b[0m\n\u001b[0;32m     20\u001b[0m image \u001b[38;5;241m=\u001b[39m vision\u001b[38;5;241m.\u001b[39mImage(content\u001b[38;5;241m=\u001b[39mcontent)\n\u001b[0;32m     22\u001b[0m \u001b[38;5;66;03m# for non-dense text \u001b[39;00m\n\u001b[0;32m     23\u001b[0m \u001b[38;5;66;03m# response = client.text_detection(image=image)\u001b[39;00m\n\u001b[0;32m     24\u001b[0m \u001b[38;5;66;03m# for dense text\u001b[39;00m\n\u001b[1;32m---> 25\u001b[0m response \u001b[38;5;241m=\u001b[39m \u001b[43mclient\u001b[49m\u001b[38;5;241;43m.\u001b[39;49m\u001b[43mdocument_text_detection\u001b[49m\u001b[43m(\u001b[49m\u001b[43mimage\u001b[49m\u001b[38;5;241;43m=\u001b[39;49m\u001b[43mimage\u001b[49m\u001b[43m)\u001b[49m\n\u001b[0;32m     26\u001b[0m texts \u001b[38;5;241m=\u001b[39m response\u001b[38;5;241m.\u001b[39mtext_annotations\n\u001b[0;32m     27\u001b[0m ocr_text \u001b[38;5;241m=\u001b[39m []\n",
      "File \u001b[1;32mc:\\Users\\adersh\\OneDrive\\Desktop\\optiscore\\backend\\env\\lib\\site-packages\\google\\cloud\\vision_helpers\\decorators.py:112\u001b[0m, in \u001b[0;36m_create_single_feature_method.<locals>.inner\u001b[1;34m(self, image, max_results, retry, timeout, metadata, **kwargs)\u001b[0m\n\u001b[0;32m    110\u001b[0m     copied_features[\u001b[38;5;124m\"\u001b[39m\u001b[38;5;124mmax_results\u001b[39m\u001b[38;5;124m\"\u001b[39m] \u001b[38;5;241m=\u001b[39m max_results\n\u001b[0;32m    111\u001b[0m request \u001b[38;5;241m=\u001b[39m \u001b[38;5;28mdict\u001b[39m(image\u001b[38;5;241m=\u001b[39mimage, features\u001b[38;5;241m=\u001b[39m[copied_features], \u001b[38;5;241m*\u001b[39m\u001b[38;5;241m*\u001b[39mkwargs)\n\u001b[1;32m--> 112\u001b[0m response \u001b[38;5;241m=\u001b[39m \u001b[38;5;28;43mself\u001b[39;49m\u001b[38;5;241;43m.\u001b[39;49m\u001b[43mannotate_image\u001b[49m\u001b[43m(\u001b[49m\n\u001b[0;32m    113\u001b[0m \u001b[43m    \u001b[49m\u001b[43mrequest\u001b[49m\u001b[43m,\u001b[49m\u001b[43m \u001b[49m\u001b[43mretry\u001b[49m\u001b[38;5;241;43m=\u001b[39;49m\u001b[43mretry\u001b[49m\u001b[43m,\u001b[49m\u001b[43m \u001b[49m\u001b[43mtimeout\u001b[49m\u001b[38;5;241;43m=\u001b[39;49m\u001b[43mtimeout\u001b[49m\u001b[43m,\u001b[49m\u001b[43m \u001b[49m\u001b[43mmetadata\u001b[49m\u001b[38;5;241;43m=\u001b[39;49m\u001b[43mmetadata\u001b[49m\n\u001b[0;32m    114\u001b[0m \u001b[43m\u001b[49m\u001b[43m)\u001b[49m\n\u001b[0;32m    115\u001b[0m \u001b[38;5;28;01mreturn\u001b[39;00m response\n",
      "File \u001b[1;32mc:\\Users\\adersh\\OneDrive\\Desktop\\optiscore\\backend\\env\\lib\\site-packages\\google\\cloud\\vision_helpers\\__init__.py:76\u001b[0m, in \u001b[0;36mVisionHelpers.annotate_image\u001b[1;34m(self, request, retry, timeout, metadata)\u001b[0m\n\u001b[0;32m     74\u001b[0m \u001b[38;5;28;01melif\u001b[39;00m \u001b[38;5;28mlen\u001b[39m(request\u001b[38;5;241m.\u001b[39mfeatures) \u001b[38;5;241m==\u001b[39m \u001b[38;5;241m0\u001b[39m:\n\u001b[0;32m     75\u001b[0m     request\u001b[38;5;241m.\u001b[39mfeatures \u001b[38;5;241m=\u001b[39m \u001b[38;5;28mself\u001b[39m\u001b[38;5;241m.\u001b[39m_get_all_features()\n\u001b[1;32m---> 76\u001b[0m r \u001b[38;5;241m=\u001b[39m \u001b[38;5;28;43mself\u001b[39;49m\u001b[38;5;241;43m.\u001b[39;49m\u001b[43mbatch_annotate_images\u001b[49m\u001b[43m(\u001b[49m\n\u001b[0;32m     77\u001b[0m \u001b[43m    \u001b[49m\u001b[43mrequests\u001b[49m\u001b[38;5;241;43m=\u001b[39;49m\u001b[43m[\u001b[49m\u001b[43mrequest\u001b[49m\u001b[43m]\u001b[49m\u001b[43m,\u001b[49m\u001b[43m \u001b[49m\u001b[43mretry\u001b[49m\u001b[38;5;241;43m=\u001b[39;49m\u001b[43mretry\u001b[49m\u001b[43m,\u001b[49m\u001b[43m \u001b[49m\u001b[43mtimeout\u001b[49m\u001b[38;5;241;43m=\u001b[39;49m\u001b[43mtimeout\u001b[49m\u001b[43m,\u001b[49m\u001b[43m \u001b[49m\u001b[43mmetadata\u001b[49m\u001b[38;5;241;43m=\u001b[39;49m\u001b[43mmetadata\u001b[49m\n\u001b[0;32m     78\u001b[0m \u001b[43m\u001b[49m\u001b[43m)\u001b[49m\n\u001b[0;32m     79\u001b[0m \u001b[38;5;28;01mreturn\u001b[39;00m r\u001b[38;5;241m.\u001b[39mresponses[\u001b[38;5;241m0\u001b[39m]\n",
      "File \u001b[1;32mc:\\Users\\adersh\\OneDrive\\Desktop\\optiscore\\backend\\env\\lib\\site-packages\\google\\cloud\\vision_v1\\services\\image_annotator\\client.py:836\u001b[0m, in \u001b[0;36mImageAnnotatorClient.batch_annotate_images\u001b[1;34m(self, request, requests, retry, timeout, metadata)\u001b[0m\n\u001b[0;32m    833\u001b[0m \u001b[38;5;28mself\u001b[39m\u001b[38;5;241m.\u001b[39m_validate_universe_domain()\n\u001b[0;32m    835\u001b[0m \u001b[38;5;66;03m# Send the request.\u001b[39;00m\n\u001b[1;32m--> 836\u001b[0m response \u001b[38;5;241m=\u001b[39m \u001b[43mrpc\u001b[49m\u001b[43m(\u001b[49m\n\u001b[0;32m    837\u001b[0m \u001b[43m    \u001b[49m\u001b[43mrequest\u001b[49m\u001b[43m,\u001b[49m\n\u001b[0;32m    838\u001b[0m \u001b[43m    \u001b[49m\u001b[43mretry\u001b[49m\u001b[38;5;241;43m=\u001b[39;49m\u001b[43mretry\u001b[49m\u001b[43m,\u001b[49m\n\u001b[0;32m    839\u001b[0m \u001b[43m    \u001b[49m\u001b[43mtimeout\u001b[49m\u001b[38;5;241;43m=\u001b[39;49m\u001b[43mtimeout\u001b[49m\u001b[43m,\u001b[49m\n\u001b[0;32m    840\u001b[0m \u001b[43m    \u001b[49m\u001b[43mmetadata\u001b[49m\u001b[38;5;241;43m=\u001b[39;49m\u001b[43mmetadata\u001b[49m\u001b[43m,\u001b[49m\n\u001b[0;32m    841\u001b[0m \u001b[43m\u001b[49m\u001b[43m)\u001b[49m\n\u001b[0;32m    843\u001b[0m \u001b[38;5;66;03m# Done; return the response.\u001b[39;00m\n\u001b[0;32m    844\u001b[0m \u001b[38;5;28;01mreturn\u001b[39;00m response\n",
      "File \u001b[1;32mc:\\Users\\adersh\\OneDrive\\Desktop\\optiscore\\backend\\env\\lib\\site-packages\\google\\api_core\\gapic_v1\\method.py:131\u001b[0m, in \u001b[0;36m_GapicCallable.__call__\u001b[1;34m(self, timeout, retry, compression, *args, **kwargs)\u001b[0m\n\u001b[0;32m    128\u001b[0m \u001b[38;5;28;01mif\u001b[39;00m \u001b[38;5;28mself\u001b[39m\u001b[38;5;241m.\u001b[39m_compression \u001b[38;5;129;01mis\u001b[39;00m \u001b[38;5;129;01mnot\u001b[39;00m \u001b[38;5;28;01mNone\u001b[39;00m:\n\u001b[0;32m    129\u001b[0m     kwargs[\u001b[38;5;124m\"\u001b[39m\u001b[38;5;124mcompression\u001b[39m\u001b[38;5;124m\"\u001b[39m] \u001b[38;5;241m=\u001b[39m compression\n\u001b[1;32m--> 131\u001b[0m \u001b[38;5;28;01mreturn\u001b[39;00m wrapped_func(\u001b[38;5;241m*\u001b[39margs, \u001b[38;5;241m*\u001b[39m\u001b[38;5;241m*\u001b[39mkwargs)\n",
      "File \u001b[1;32mc:\\Users\\adersh\\OneDrive\\Desktop\\optiscore\\backend\\env\\lib\\site-packages\\google\\api_core\\grpc_helpers.py:78\u001b[0m, in \u001b[0;36m_wrap_unary_errors.<locals>.error_remapped_callable\u001b[1;34m(*args, **kwargs)\u001b[0m\n\u001b[0;32m     76\u001b[0m     \u001b[38;5;28;01mreturn\u001b[39;00m callable_(\u001b[38;5;241m*\u001b[39margs, \u001b[38;5;241m*\u001b[39m\u001b[38;5;241m*\u001b[39mkwargs)\n\u001b[0;32m     77\u001b[0m \u001b[38;5;28;01mexcept\u001b[39;00m grpc\u001b[38;5;241m.\u001b[39mRpcError \u001b[38;5;28;01mas\u001b[39;00m exc:\n\u001b[1;32m---> 78\u001b[0m     \u001b[38;5;28;01mraise\u001b[39;00m exceptions\u001b[38;5;241m.\u001b[39mfrom_grpc_error(exc) \u001b[38;5;28;01mfrom\u001b[39;00m\u001b[38;5;250m \u001b[39m\u001b[38;5;21;01mexc\u001b[39;00m\n",
      "\u001b[1;31mServiceUnavailable\u001b[0m: 503 DNS resolution failed for vision.googleapis.com:443: UNAVAILABLE: getaddrinfo: WSA Error (No such host is known.\r\n -- 11001)"
     ]
    }
   ],
   "source": [
    "import re\n",
    "from ocr import detect_text\n",
    "\n",
    "\n",
    "image_path = \"answer5.jpg\"\n",
    "text = detect_text(image_path)\n",
    "result=','.join(text)\n",
    "result.replace(\"\\n\",\"\")\n",
    "result.replace(\"\\r\",\"\")\n",
    "\n",
    "\n",
    "\n",
    "# Example string of questions\n",
    "# text = \"\"\"1. What is the capital of France? \n",
    "# 2. Explain the theory of relativity. \n",
    "# 3. Describe the process of photosynthesis.\"\"\"\n",
    "\n",
    "# Extracting and displaying questions\n",
    "print(result)\n"
   ]
  },
  {
   "cell_type": "code",
   "execution_count": 82,
   "metadata": {},
   "outputs": [],
   "source": [
    "def extract_questions(text):\n",
    "    # Pattern to match question number followed by a period and space\n",
    "    pattern = r\"(\\d+)\\.\\s*([^\\d]+)\"\n",
    "    matches = re.findall(pattern, text)\n",
    "\n",
    "    # Convert matches to a list of tuples (number, question)\n",
    "    questions = sorted(matches, key=lambda x: int(x[0]))\n",
    "    \n",
    "    # Extract the question text in the order of question numbers\n",
    "    question_list = [q[1].strip() for q in questions]\n",
    "    return question_list\n"
   ]
  },
  {
   "cell_type": "code",
   "execution_count": 83,
   "metadata": {},
   "outputs": [
    {
     "name": "stdout",
     "output_type": "stream",
     "text": [
      "Extracted Questions:\n",
      "Define and explain the term constitution.\n",
      "CO\n"
     ]
    }
   ],
   "source": [
    "questions = extract_questions(result)\n",
    "print(\"Extracted Questions:\")\n",
    "# for i, q in enumerate(questions, 1):\n",
    "#     print(f\"{i}. {q}\")\n",
    "#final_ques=questions[::2]\n",
    "print(questions[0])"
   ]
  },
  {
   "cell_type": "code",
   "execution_count": 43,
   "metadata": {},
   "outputs": [],
   "source": [
    "final_ques.extend(final_ques)"
   ]
  },
  {
   "cell_type": "code",
   "execution_count": 44,
   "metadata": {},
   "outputs": [
    {
     "data": {
      "text/plain": [
       "'Write a C program to compare two strings without using the built-in function strcmp().\\nOR\\nCO'"
      ]
     },
     "execution_count": 44,
     "metadata": {},
     "output_type": "execute_result"
    }
   ],
   "source": [
    "final_ques[17]"
   ]
  },
  {
   "cell_type": "code",
   "execution_count": 30,
   "metadata": {},
   "outputs": [
    {
     "data": {
      "text/plain": [
       "18"
      ]
     },
     "execution_count": 30,
     "metadata": {},
     "output_type": "execute_result"
    }
   ],
   "source": [
    "len(final_ques)"
   ]
  },
  {
   "cell_type": "code",
   "execution_count": 189,
   "metadata": {},
   "outputs": [],
   "source": [
    "\n",
    "import re \n",
    "def split_question(answer_text): # Regex to match question number followed by a period and space \n",
    "    matches = re.findall(r'(\\d+)\\.\\s*(.*?)(?=\\d+\\.|$)', answer_text, re.DOTALL) \n",
    "    if not matches: return [] # Determine the highest question number \n",
    "    max_question = max(int(num) for num, _ in matches) # Initialize the answer list with empty strings \n",
    "    answers = [\"\"] * max_question # Populate answers based on question number \n",
    "    for num, ans in matches: \n",
    "        answers[int(num) - 1] = ans.strip()\n",
    "    result2=[]\n",
    "    for ques in answers:\n",
    "        ques1=ques.replace(\",\",\" \").replace(\"\\n\",\"\").replace(\"\\r\",\"\")\n",
    "        result2.append(ques1)\n",
    "    processed_list=[]\n",
    "    for item in result2:\n",
    "        # Check if the string contains sub-questions like 'a )', 'b )', 'a)', 'b)', etc.\n",
    "        if re.search(r'\\b[a-z]\\s?\\)\\s', item):\n",
    "            # Split based on 'a)', 'b)', 'c)', allowing optional space between letter and bracket\n",
    "            sub_questions = re.split(r'\\b([a-z])\\s?\\)\\s', item)[1:]\n",
    "            \n",
    "            # Reconstruct the sublist properly (keeping label and content together)\n",
    "            sub_questions = [sub_questions[i] + ') ' + sub_questions[i+1] for i in range(0, len(sub_questions), 2)]\n",
    "            \n",
    "            processed_list.append(sub_questions)\n",
    "        else:\n",
    "            processed_list.append(item)\n",
    "    return processed_list # Example usage input_text = \"1. Answer with number 123. and more text 2. Another answer 3. Answer 3 has a number 456.78. 4. Final answer.\" result = split_answers(input_text) print(result) \n"
   ]
  },
  {
   "cell_type": "code",
   "execution_count": null,
   "metadata": {},
   "outputs": [
    {
     "name": "stdout",
     "output_type": "stream",
     "text": [
      "Define and explain the term constitution.CO1 1 (3)\n"
     ]
    }
   ],
   "source": [
    "# input_text = \"1. Answer with number 123. and more text 2. Another answer 3. Answer 3 has a number 456.78. 4. Final answer.\" \n",
    "# result1 = split_question(result) \n",
    "# result2=[]\n",
    "# for ques in result1:\n",
    "#     ques1=ques.replace(\",\",\" \").replace(\"\\n\",\"\").replace(\"\\r\",\"\")\n",
    "#     result2.append(ques1)\n",
    "    \n",
    "# print(result2[0]) "
   ]
  },
  {
   "cell_type": "code",
   "execution_count": 192,
   "metadata": {},
   "outputs": [
    {
     "name": "stdout",
     "output_type": "stream",
     "text": [
      "\n"
     ]
    }
   ],
   "source": [
    "newresult=split_question(result)\n",
    "print(newresult[4])"
   ]
  },
  {
   "cell_type": "code",
   "execution_count": 137,
   "metadata": {},
   "outputs": [],
   "source": [
    "def split_subquestions(question_list):\n",
    "    processed_list = []\n",
    "    \n",
    "    for item in question_list:\n",
    "        # Check if the string contains sub-questions like 'a )', 'b )', 'a)', 'b)', etc.\n",
    "        if re.search(r'\\b[a-z]\\s?\\)\\s', item):\n",
    "            # Split based on 'a)', 'b)', 'c)', allowing optional space between letter and bracket\n",
    "            sub_questions = re.split(r'\\b([a-z])\\s?\\)\\s', item)[1:]\n",
    "            \n",
    "            # Reconstruct the sublist properly (keeping label and content together)\n",
    "            sub_questions = [sub_questions[i] + ') ' + sub_questions[i+1] for i in range(0, len(sub_questions), 2)]\n",
    "            \n",
    "            processed_list.append(sub_questions)\n",
    "        else:\n",
    "            processed_list.append(item)\n",
    "    \n",
    "    return processed_list\n",
    "\n",
    "\n",
    "# Example list\n",
    "# test_list = [\n",
    "#     \"some string\",\n",
    "#     \"some string\",\n",
    "#     \"a) some string b) some string c) another string\",\n",
    "#     \"some string\"\n",
    "# ]\n",
    "\n",
    "# # Process the list\n",
    "# result = split_subquestions(test_list)\n",
    "\n",
    "# # Print the result\n",
    "# print(result)\n"
   ]
  },
  {
   "cell_type": "code",
   "execution_count": null,
   "metadata": {},
   "outputs": [
    {
     "name": "stdout",
     "output_type": "stream",
     "text": [
      "b) List and explain the salient features of the Constitution of India . CO1 1 ( 7 ) OR \n"
     ]
    }
   ],
   "source": [
    "result3=split_subquestions(result2)\n",
    "print(result3[4])"
   ]
  },
  {
   "cell_type": "code",
   "execution_count": 207,
   "metadata": {},
   "outputs": [],
   "source": [
    "import re \n",
    "\n",
    "def split_answer(answer_text, max_number): \n",
    "    # Regex to match question number followed by a period and space \n",
    "    matches = re.findall(r'(\\d+)\\.\\s*(.*?)(?=\\d+\\.|$)', answer_text, re.DOTALL) \n",
    "    if not matches:\n",
    "        return [] \n",
    "    \n",
    "    # Initialize the answer list with empty strings based on max_number\n",
    "    answers = [\"no answer\" for _ in range(max_number)]\n",
    "    \n",
    "    # Populate answers based on question number \n",
    "    for num, ans in matches:\n",
    "        index = int(num) - 1\n",
    "        if index < max_number:\n",
    "            answers[index] = ans.strip()\n",
    "    \n",
    "    result2 = [ques.replace(\",\", \" \").replace(\"\\n\", \"\").replace(\"\\r\", \"\") for ques in answers]\n",
    "    \n",
    "    processed_list = []\n",
    "    for item in result2:\n",
    "        # Check if the string contains sub-questions like 'a )', 'b )', 'a)', 'b)', etc.\n",
    "        if re.search(r'\\b[a-z]\\s?\\)\\s', item):\n",
    "            # Split based on 'a)', 'b)', 'c)', allowing optional space between letter and bracket\n",
    "            sub_questions = re.split(r'\\b([a-z])\\s?\\)\\s', item)[1:]\n",
    "            \n",
    "            # Reconstruct the sublist properly (keeping label and content together)\n",
    "            sub_questions = [sub_questions[i] + ') ' + sub_questions[i+1] for i in range(0, len(sub_questions), 2)]\n",
    "            \n",
    "            processed_list.append(sub_questions)\n",
    "        else:\n",
    "            processed_list.append(item)\n",
    "    \n",
    "    return processed_list\n",
    "\n",
    "# Example usage\n",
    "\n"
   ]
  },
  {
   "cell_type": "code",
   "execution_count": 216,
   "metadata": {},
   "outputs": [
    {
     "name": "stdout",
     "output_type": "stream",
     "text": [
      "a) Article 12 to Article 35 under part 11 of cndian Constitution discuss about 6 .. Fundamental Rights . They are aze the basic human Rights that should be guarnteed to all indian citizens . + Right to Equality * Right to Freedom + Right to Freedom of excigion Right aganist fxploitation * Cultusal of felucational + Right Right to constitutional Remedies ..\n"
     ]
    }
   ],
   "source": [
    "newans=split_answer(result,10)\n",
    "print(newans[6][0])"
   ]
  },
  {
   "cell_type": "code",
   "execution_count": 217,
   "metadata": {},
   "outputs": [
    {
     "name": "stdout",
     "output_type": "stream",
     "text": [
      "['', '', '', '', '', '.Fundamental Rights. They areaze the basichuman Rights that should be guarnteedto all indian citizens.+ Right to Equality* Right to Freedom+Right to Freedom of excigionRight aganist fxploitation* Cultusal of felucational+RightRight to constitutional Remedies.. ', ['a) Article 12 to Article 35 under part 11 of cndian Constitution discuss about 6 .. Fundamental Rights . They are aze the basic human Rights that should be guarnteed to all indian citizens . + Right to Equality * Right to Freedom + Right to Freedom of excigion Right aganist fxploitation * Cultusal of felucational + Right Right to constitutional Remedies ..']]\n"
     ]
    }
   ],
   "source": [
    "from question_split import split_question\n",
    "newqus=split_question(result)\n",
    "print(newqus)"
   ]
  },
  {
   "cell_type": "code",
   "execution_count": 218,
   "metadata": {},
   "outputs": [
    {
     "name": "stdout",
     "output_type": "stream",
     "text": [
      "['no answer', 'no answer', 'no answer', 'no answer', 'no answer', '.Fundamental Rights. They areaze the basichuman Rights that should be guarnteedto all indian citizens.+ Right to Equality* Right to Freedom+Right to Freedom of excigionRight aganist fxploitation* Cultusal of felucational+RightRight to constitutional Remedies.. ', ['a) Article 12 to Article 35 under part 11 of cndian Constitution discuss about 6 .. Fundamental Rights . They are aze the basic human Rights that should be guarnteed to all indian citizens . + Right to Equality * Right to Freedom + Right to Freedom of excigion Right aganist fxploitation * Cultusal of felucational + Right Right to constitutional Remedies ..'], 'no answer', 'no answer', 'no answer']\n"
     ]
    }
   ],
   "source": [
    "from answerspli import split_answer\n",
    "newans1=split_answer(result,10)\n",
    "print(newans1)"
   ]
  }
 ],
 "metadata": {
  "kernelspec": {
   "display_name": "env",
   "language": "python",
   "name": "python3"
  },
  "language_info": {
   "codemirror_mode": {
    "name": "ipython",
    "version": 3
   },
   "file_extension": ".py",
   "mimetype": "text/x-python",
   "name": "python",
   "nbconvert_exporter": "python",
   "pygments_lexer": "ipython3",
   "version": "3.9.13"
  }
 },
 "nbformat": 4,
 "nbformat_minor": 2
}
